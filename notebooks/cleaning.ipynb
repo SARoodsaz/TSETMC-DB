{
 "cells": [
  {
   "cell_type": "code",
   "execution_count": 1,
   "metadata": {},
   "outputs": [],
   "source": [
    "import pandas as pd\n",
    "import pyodbc as db\n",
    "import numpy as np\n",
    "import os\n",
    "import glob\n",
    "from operator import itemgetter\n",
    "from persiantools import characters\n",
    "from persiantools.jdatetime import JalaliDate\n",
    "import datetime\n",
    "import re\n",
    "from IPython.display import HTML\n",
    "import itertools\n",
    "from statistics import mode\n",
    "from datetime import date"
   ]
  },
  {
   "cell_type": "code",
   "execution_count": 2,
   "metadata": {},
   "outputs": [],
   "source": [
    "path=r'C:\\Users\\ah.roudsaz\\Desktop\\codal_clean\\codal_clean_profit_loss'\n",
    "dirr=r'C:\\Users\\ah.roudsaz\\Desktop\\Sood'"
   ]
  },
  {
   "cell_type": "code",
   "execution_count": 5,
   "metadata": {},
   "outputs": [],
   "source": [
    "all_df=[]\n",
    "for file in os.listdir(path):\n",
    "    for x in os.listdir(path+'\\\\'+file):\n",
    "         df= pd.read_excel(path+'\\\\'+file+'\\\\'+x)\n",
    "         df['file_name']=x\n",
    "         all_df.append(df)\n",
    "df_raw=pd.concat(all_df,ignore_index=True).reset_index(drop=True)\n",
    "df_raw.to_csv(dirr+'\\\\'+'profit.csv',index=False)"
   ]
  },
  {
   "cell_type": "code",
   "execution_count": 6,
   "metadata": {},
   "outputs": [],
   "source": [
    "df_profit= pd.read_csv(dirr+'\\\\'+'profit.csv')"
   ]
  },
  {
   "cell_type": "code",
   "execution_count": 14,
   "metadata": {},
   "outputs": [],
   "source": [
    "df_profit['date']=df_profit['date'].apply(lambda x: str(x).replace('-',''))\n",
    "df_profit['reported_period']=df_profit['reported_period'].apply(lambda x: str(x).replace('_',' '))\n",
    "df_profit['reported_date_j']=df_profit['reported_date_j'].apply(lambda x: str(x).replace('-',''))\n",
    "df_profit['reported_date_m']=df_profit['reported_date_m'].apply(lambda x: str(x).replace('-',''))\n",
    "df_profit['reported_audit_status']=df_profit['reported_audit_status'].apply(lambda x: str(x).replace('_',' '))\n",
    "df_profit['table_title']=df_profit['table_title'].apply(lambda x: str(x).replace('_',' '))"
   ]
  },
  {
   "cell_type": "code",
   "execution_count": 15,
   "metadata": {},
   "outputs": [],
   "source": [
    "df_profit['description']=df_profit['description'].apply(lambda x: str(x).replace('_',' '))"
   ]
  },
  {
   "cell_type": "code",
   "execution_count": 17,
   "metadata": {},
   "outputs": [],
   "source": [
    "df_profit['is_total_value']=df_profit['is_total_value'].apply(lambda x: str(x).split('.')[0])\n",
    "df_profit['national_code']=df_profit['national_code'].astype(str)\n",
    "df_profit['is_corrected']=df_profit['is_corrected'].apply(lambda x: str(x).split('.')[0])\n",
    "df_profit['is_total_value']=df_profit['is_total_value'].apply(lambda x: str(x).split('.')[0])"
   ]
  },
  {
   "cell_type": "code",
   "execution_count": 19,
   "metadata": {},
   "outputs": [],
   "source": [
    "df_profit['national_code']=df_profit['national_code'].apply(lambda x: str(x).split('.')[0])"
   ]
  },
  {
   "cell_type": "code",
   "execution_count": 22,
   "metadata": {},
   "outputs": [],
   "source": [
    "df_profit.to_csv(dirr+'\\\\'+'profit_corect.csv',index=False,encoding='Utf-8-sig',sep=';')"
   ]
  },
  {
   "cell_type": "code",
   "execution_count": null,
   "metadata": {},
   "outputs": [],
   "source": []
  }
 ],
 "metadata": {
  "interpreter": {
   "hash": "5b6dbfc68184f998ca3ee3e5349d365e100780b212775c518b5644fdf1d4ec58"
  },
  "kernelspec": {
   "display_name": "Python 3.10.2 64-bit",
   "language": "python",
   "name": "python3"
  },
  "language_info": {
   "codemirror_mode": {
    "name": "ipython",
    "version": 3
   },
   "file_extension": ".py",
   "mimetype": "text/x-python",
   "name": "python",
   "nbconvert_exporter": "python",
   "pygments_lexer": "ipython3",
   "version": "3.10.2"
  },
  "orig_nbformat": 4
 },
 "nbformat": 4,
 "nbformat_minor": 2
}
