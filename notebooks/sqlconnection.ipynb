{
 "cells": [
  {
   "cell_type": "code",
   "execution_count": null,
   "metadata": {},
   "outputs": [],
   "source": [
    "import pandas as pd\n",
    "import pyodbc as db\n",
    "import numpy as np\n",
    "import os\n",
    "import glob\n",
    "from operator import itemgetter\n",
    "from persiantools import characters\n",
    "from persiantools.jdatetime import JalaliDate\n",
    "import datetime\n",
    "import re\n",
    "from IPython.display import HTML\n",
    "import itertools\n",
    "from statistics import mode\n",
    "from datetime import date"
   ]
  },
  {
   "cell_type": "markdown",
   "metadata": {},
   "source": [
    "Connection Properties"
   ]
  },
  {
   "cell_type": "code",
   "execution_count": null,
   "metadata": {},
   "outputs": [],
   "source": [
    "server = 'POOLBANK-RDS2'\n",
    "database= 'CapitalMarket'\n",
    "username= 'ah.roodsaz'\n",
    "password= 'Frank137596Roodsaz'"
   ]
  },
  {
   "cell_type": "code",
   "execution_count": null,
   "metadata": {},
   "outputs": [],
   "source": [
    "cnxn= db.connect('DRIVER={SQL Server};SERVER='+server+';DATABASE='+database+';UID'+username+';PWD='+password)\n",
    "cursor= cnxn.cursor()"
   ]
  },
  {
   "cell_type": "markdown",
   "metadata": {},
   "source": [
    "Functions"
   ]
  },
  {
   "cell_type": "code",
   "execution_count": null,
   "metadata": {},
   "outputs": [],
   "source": [
    "def excel_to_csv(path,dirr):\n",
    "    extension='xlsx'\n",
    "    os.chdir(path)\n",
    "    for file in os.listdir(path):\n",
    "        file_xlsx= pd.read_excel(file)\n",
    "        file_xlsx.to_csv(dirr+'\\\\'+file.split('.')[0]+'.csv',index=False)"
   ]
  },
  {
   "cell_type": "code",
   "execution_count": null,
   "metadata": {},
   "outputs": [],
   "source": [
    "def csv_to_excel(path,dirr):\n",
    "    for file in os.listdir(path):\n",
    "        df=pd.read_csv(path+'\\\\'+file)\n",
    "        df.to_csv(dirr+'\\\\'+file.split('.')[0]+'.xlsx',index=False)"
   ]
  },
  {
   "cell_type": "code",
   "execution_count": null,
   "metadata": {},
   "outputs": [],
   "source": [
    "def read_merg (path,dirr,formatfile):\n",
    "    # merge file to csv\n",
    "    all_df=[]\n",
    "    input_1=input('file name is: ')\n",
    "    if formatfile=='csv':\n",
    "        for file in os.listdir(path):\n",
    "            df=pd.read_csv(path+'\\\\'+file,engine='python',encoding='utf-8-sig')\n",
    "            all_df.append(df)\n",
    "    if formatfile=='xlsx':\n",
    "        for file in os.listdir(path):\n",
    "            df=pd.read_excel(path+'\\\\'+file)\n",
    "            all_df.append(df)\n",
    "    df_raw=pd.concat(all_df,ignore_index=True).reset_index(drop=True)\n",
    "    df_raw.to_csv(dirr+'\\\\'+f'{input_1}'+'.csv')"
   ]
  },
  {
   "cell_type": "code",
   "execution_count": null,
   "metadata": {},
   "outputs": [],
   "source": [
    "def change_column_name (df):\n",
    "    columns= df.columns.tolist()\n",
    "    print(f'main column name is: {columns}')\n",
    "    for i in columns:\n",
    "        input_1= input(f'insert new name for {i}: ')\n",
    "        df.rename(columns={i:input_1},inplace=True)"
   ]
  },
  {
   "cell_type": "code",
   "execution_count": null,
   "metadata": {},
   "outputs": [],
   "source": [
    "def insert_update_date (df):\n",
    "    input_2= input('do you want insert date column: (N\\Y)')\n",
    "    if input_2=='Y':\n",
    "        df['insert_date']= date.today()\n",
    "    input_1=input('do you want insert update date: (N\\Y)')\n",
    "    if input_1=='Y':\n",
    "        df['update_date']= date.today()"
   ]
  },
  {
   "cell_type": "code",
   "execution_count": null,
   "metadata": {},
   "outputs": [],
   "source": [
    "def column_clustering(df):\n",
    "    columns= df.columns.tolist()\n",
    "    print(f'there are headers of dataframe: {columns}')\n",
    "    string_columns=[]\n",
    "    code_columns=[]\n",
    "    price_columns=[]\n",
    "    input_1=None\n",
    "    while input_1 != 'finish':\n",
    "        input_1= input('choose one clustering column: (string_column,price_column,code_column)')\n",
    "        if input_1 =='string_column':\n",
    "            print('you choose string_column')\n",
    "            input_2=None\n",
    "            while input_2 !='finish':\n",
    "                input_2 = input('select columns that you want: ')\n",
    "                string_columns.append(input_2)\n",
    "        if input_1 =='code_column':\n",
    "            print('you choose code_column')\n",
    "            input_3=None\n",
    "            while input_3 !='finish':\n",
    "                input_3 = input('select columns that you want: ')\n",
    "                code_columns.append(input_3)\n",
    "            code_columns.remove('finish')\n",
    "        if input_1 =='price_column':\n",
    "            print('you choose price_column')\n",
    "            input_3=None\n",
    "            while input_3 !='finish':\n",
    "                input_3 = input('select columns that you want: ')\n",
    "                price_columns.append(input_3)\n",
    "                price_columns.remove('finish')\n",
    "    string_columns.remove('finish')\n",
    "\n",
    "    return string_columns, code_columns, price_columns"
   ]
  },
  {
   "cell_type": "markdown",
   "metadata": {},
   "source": [
    "Reading data"
   ]
  },
  {
   "cell_type": "code",
   "execution_count": null,
   "metadata": {},
   "outputs": [],
   "source": [
    "path=\"C:/Users/ah.roudsaz/Desktop/FullDate_correct.xlsx\""
   ]
  },
  {
   "cell_type": "code",
   "execution_count": null,
   "metadata": {},
   "outputs": [],
   "source": [
    "df_profit= pd.read_excel(path)"
   ]
  },
  {
   "cell_type": "code",
   "execution_count": null,
   "metadata": {},
   "outputs": [],
   "source": [
    "df_profit['MiladiModify']=df_profit['MiladiModify'].astype(str).apply(lambda x : x.replace('-',''))\n",
    "df_profit['Jalali_3']=df_profit['Jalali_1'].astype(str).apply(lambda x : x.replace('/',''))"
   ]
  },
  {
   "cell_type": "code",
   "execution_count": null,
   "metadata": {},
   "outputs": [],
   "source": [
    "df_profit.to_excel(r'C:/Users/ah.roudsaz/Desktop/FullDate_correct.xlsx')"
   ]
  },
  {
   "cell_type": "code",
   "execution_count": null,
   "metadata": {},
   "outputs": [],
   "source": [
    "df_df_profit_c=df_profit.copy()"
   ]
  },
  {
   "cell_type": "code",
   "execution_count": null,
   "metadata": {},
   "outputs": [],
   "source": [
    "df_profit"
   ]
  },
  {
   "cell_type": "markdown",
   "metadata": {},
   "source": [
    "Creat table"
   ]
  },
  {
   "cell_type": "code",
   "execution_count": null,
   "metadata": {},
   "outputs": [],
   "source": [
    "cursor.execute('''\n",
    "\t\tCREATE TABLE FullDate (\n",
    "\t\t\tMiladi date,\n",
    "\t\t\tJalali_1 nvarchar(max),\n",
    "\t\t\tJalali_2 nvarchar(max),\n",
    "\t\t\tMiladi_1 date,\n",
    "\t\t\tMiladiModify nvarchar(max),\n",
    "\t\t\tjyear nvarchar(max),\n",
    "\t\t\tmmonthN nvarchar(max),\n",
    "\t\t\tjmonthN nvarchar(max),\n",
    "\t\t\tmmonthT nvarchar(max),\n",
    "\t\t\tjmonthT nvarchar(max),\n",
    "\t\t\tmnime nvarchar(max),\n",
    "\t\t\tjnime nvarchar(max),\n",
    "\t\t\tJquarterN nvarchar(max),\n",
    "\t\t\tJQuarterT nvarchar(max),\n",
    "\t\t\tMquarterN nvarchar(max),\n",
    "\t\t\tJWeekDay nvarchar(max),\n",
    "\t\t\tMWeekDay nvarchar(max),\n",
    "\t\t\tMWeekNum nvarchar(max),\n",
    "\t\t\tJWeekNum nvarchar(max),\n",
    "\t\t\tJalali_3 nvarchar(max),\n",
    "\t\t\t)\n",
    "               ''')\n",
    "cursor.commit()"
   ]
  },
  {
   "cell_type": "markdown",
   "metadata": {},
   "source": [
    "Insert Data"
   ]
  },
  {
   "cell_type": "code",
   "execution_count": null,
   "metadata": {},
   "outputs": [],
   "source": [
    "for index, row in df_df_profit_c.iterrows():\n",
    "    cursor.execute('''\n",
    "                INSERT INTO profit (description, value, date,audit_status,is_total_value,national_code,nemad,company_name,reported_period,reported_date_j,reported_date_m,reported_audit_status,is_corrected,send_time,publish_time,table_title,file_name)\n",
    "                VALUES (?,?,?,?,?,?,?,?,?,?,?,?,?,?,?,?,?)\n",
    "                ''',\n",
    "                row.loc['description'], \n",
    "                row.loc['value'],\n",
    "                row.loc['date'],\n",
    "                row.loc['audit_status'],\n",
    "                row.loc['is_total_value'],\n",
    "                row.loc['national_code'],\n",
    "                row.loc['nemad'],\n",
    "                row.loc['company_name'],\n",
    "                row.loc['reported_period'],\n",
    "                row.loc['reported_date_j'],\n",
    "                row.loc['reported_date_m'],\n",
    "                row.loc['reported_audit_status'],\n",
    "                row.loc['is_corrected'],\n",
    "                row.loc['send_time'],\n",
    "                row.loc['publish_time'],\n",
    "                row.loc['table_title'],\n",
    "                row.loc['file_name']\n",
    "                )\n",
    "cnxn.commit()\n",
    "cursor.close()\n",
    "    "
   ]
  },
  {
   "cell_type": "code",
   "execution_count": null,
   "metadata": {},
   "outputs": [],
   "source": [
    "pd.read_csv(r'D:\\TSETMC_merge\\balance_correct.csv').to_csv(r'C:\\Users\\ah.roudsaz\\Desktop\\New folder\\balance_correct.csv',index=False,encoding='utf-8-sig',sep=';')"
   ]
  },
  {
   "cell_type": "code",
   "execution_count": null,
   "metadata": {},
   "outputs": [],
   "source": []
  }
 ],
 "metadata": {
  "interpreter": {
   "hash": "5b6dbfc68184f998ca3ee3e5349d365e100780b212775c518b5644fdf1d4ec58"
  },
  "kernelspec": {
   "display_name": "Python 3.10.2 64-bit",
   "language": "python",
   "name": "python3"
  },
  "language_info": {
   "codemirror_mode": {
    "name": "ipython",
    "version": 3
   },
   "file_extension": ".py",
   "mimetype": "text/x-python",
   "name": "python",
   "nbconvert_exporter": "python",
   "pygments_lexer": "ipython3",
   "version": "3.10.2"
  },
  "orig_nbformat": 4
 },
 "nbformat": 4,
 "nbformat_minor": 2
}
